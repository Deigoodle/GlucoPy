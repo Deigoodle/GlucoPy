{
 "cells": [
  {
   "cell_type": "markdown",
   "metadata": {},
   "source": [
    "# Gframe\n",
    "\n",
    "Notebook to test the Gframe library."
   ]
  },
  {
   "cell_type": "markdown",
   "metadata": {},
   "source": [
    "### Imports"
   ]
  },
  {
   "cell_type": "code",
   "execution_count": 1,
   "metadata": {},
   "outputs": [],
   "source": [
    "import numpy as np\n",
    "import pandas as pd\n",
    "import plotly.express as px\n",
    "from glucopy.io import *\n",
    "from glucopy.plot import *\n",
    "from glucopy.utils import *\n",
    "from glucopy.classes import Gframe"
   ]
  },
  {
   "cell_type": "markdown",
   "metadata": {},
   "source": [
    "### Read file and create Gframe"
   ]
  },
  {
   "cell_type": "code",
   "execution_count": 2,
   "metadata": {},
   "outputs": [
    {
     "data": {
      "text/plain": [
       "'DATASETS/Shanghai/T2DM/2086_0_20200914.xls'"
      ]
     },
     "execution_count": 2,
     "metadata": {},
     "output_type": "execute_result"
    }
   ],
   "source": [
    "path = f'DATASETS/Shanghai/T2DM/2086_0_20200914.xls'\n",
    "gf = load_excel(path=path)\n",
    "path"
   ]
  },
  {
   "cell_type": "code",
   "execution_count": 3,
   "metadata": {},
   "outputs": [
    {
     "data": {
      "text/plain": [
       "\"path2 = f'DATASETS/prueba 1 sensor free style libre.csv'\\ngf2 = load_csv(path=path2,\\n               date_column='Sello de tiempo del dispositivo',\\n               cgm_column='Historial de glucosa mg/dL',\\n               skiprows=2,\\n               date_format='mixed')\""
      ]
     },
     "execution_count": 3,
     "metadata": {},
     "output_type": "execute_result"
    }
   ],
   "source": [
    "'''path2 = f'DATASETS/prueba 1 sensor free style libre.csv'\n",
    "gf2 = load_csv(path=path2,\n",
    "               date_column='Sello de tiempo del dispositivo',\n",
    "               cgm_column='Historial de glucosa mg/dL',\n",
    "               skiprows=2,\n",
    "               date_format='mixed')'''"
   ]
  },
  {
   "cell_type": "markdown",
   "metadata": {},
   "source": [
    "# "
   ]
  },
  {
   "cell_type": "markdown",
   "metadata": {},
   "source": [
    "## Metrics"
   ]
  },
  {
   "cell_type": "markdown",
   "metadata": {},
   "source": [
    "#### 1. Joint data analysis metrics for glycaemia dynamics"
   ]
  },
  {
   "cell_type": "code",
   "execution_count": 4,
   "metadata": {},
   "outputs": [
    {
     "data": {
      "text/plain": [
       "Day\n",
       "2020-09-14    161.145763\n",
       "2020-09-15    158.118750\n",
       "2020-09-16    150.656250\n",
       "2020-09-17    154.312500\n",
       "2020-09-18    145.481250\n",
       "2020-09-19    158.081250\n",
       "2020-09-20    144.843750\n",
       "2020-09-21    143.193750\n",
       "2020-09-22    166.368750\n",
       "2020-09-23    164.775000\n",
       "2020-09-24    162.150000\n",
       "2020-09-25    165.768750\n",
       "2020-09-26    179.475000\n",
       "2020-09-27    159.787500\n",
       "2020-09-28    138.600000\n",
       "Name: CGM, dtype: float64"
      ]
     },
     "execution_count": 4,
     "metadata": {},
     "output_type": "execute_result"
    }
   ],
   "source": [
    "gf.mean(per_day=True)"
   ]
  },
  {
   "cell_type": "code",
   "execution_count": 5,
   "metadata": {},
   "outputs": [
    {
     "data": {
      "text/plain": [
       "Day\n",
       "2020-09-14    43.498138\n",
       "2020-09-15    54.934438\n",
       "2020-09-16    60.087100\n",
       "2020-09-17    51.537194\n",
       "2020-09-18    55.629516\n",
       "2020-09-19    53.860870\n",
       "2020-09-20    44.328384\n",
       "2020-09-21    53.387603\n",
       "2020-09-22    63.074795\n",
       "2020-09-23    65.295953\n",
       "2020-09-24    68.393850\n",
       "2020-09-25    40.622092\n",
       "2020-09-26    67.027971\n",
       "2020-09-27    72.261227\n",
       "2020-09-28    45.479842\n",
       "Name: CGM, dtype: float64"
      ]
     },
     "execution_count": 5,
     "metadata": {},
     "output_type": "execute_result"
    }
   ],
   "source": [
    "gf.std(per_day=True)"
   ]
  },
  {
   "cell_type": "code",
   "execution_count": 6,
   "metadata": {},
   "outputs": [
    {
     "data": {
      "text/plain": [
       "Day\n",
       "2020-09-14    0.269930\n",
       "2020-09-15    0.347425\n",
       "2020-09-16    0.398836\n",
       "2020-09-17    0.333979\n",
       "2020-09-18    0.382383\n",
       "2020-09-19    0.340716\n",
       "2020-09-20    0.306043\n",
       "2020-09-21    0.372835\n",
       "2020-09-22    0.379126\n",
       "2020-09-23    0.396273\n",
       "2020-09-24    0.421794\n",
       "2020-09-25    0.245053\n",
       "2020-09-26    0.373467\n",
       "2020-09-27    0.452233\n",
       "2020-09-28    0.328137\n",
       "Name: CGM, dtype: float64"
      ]
     },
     "execution_count": 6,
     "metadata": {},
     "output_type": "execute_result"
    }
   ],
   "source": [
    "gf.cv(per_day=True)"
   ]
  },
  {
   "cell_type": "code",
   "execution_count": 7,
   "metadata": {},
   "outputs": [
    {
     "data": {
      "text/plain": [
       "Day\n",
       "2020-09-14    26.993039\n",
       "2020-09-15    34.742520\n",
       "2020-09-16    39.883576\n",
       "2020-09-17    33.397939\n",
       "2020-09-18    38.238272\n",
       "2020-09-19    34.071637\n",
       "2020-09-20    30.604278\n",
       "2020-09-21    37.283473\n",
       "2020-09-22    37.912646\n",
       "2020-09-23    39.627342\n",
       "2020-09-24    42.179371\n",
       "2020-09-25    24.505278\n",
       "2020-09-26    37.346689\n",
       "2020-09-27    45.223329\n",
       "2020-09-28    32.813739\n",
       "Name: CGM, dtype: float64"
      ]
     },
     "execution_count": 7,
     "metadata": {},
     "output_type": "execute_result"
    }
   ],
   "source": [
    "gf.pcv(per_day=True)"
   ]
  },
  {
   "cell_type": "code",
   "execution_count": 8,
   "metadata": {},
   "outputs": [
    {
     "data": {
      "text/plain": [
       "Day\n",
       "2020-09-14     69.30\n",
       "2020-09-15     89.10\n",
       "2020-09-16     81.00\n",
       "2020-09-17     86.85\n",
       "2020-09-18     79.20\n",
       "2020-09-19     81.90\n",
       "2020-09-20     70.65\n",
       "2020-09-21     56.70\n",
       "2020-09-22    113.85\n",
       "2020-09-23     76.05\n",
       "2020-09-24    125.10\n",
       "2020-09-25     38.25\n",
       "2020-09-26    115.20\n",
       "2020-09-27     98.55\n",
       "2020-09-28     45.90\n",
       "Name: CGM, dtype: float64"
      ]
     },
     "execution_count": 8,
     "metadata": {},
     "output_type": "execute_result"
    }
   ],
   "source": [
    "gf.iqr(per_day=True)"
   ]
  },
  {
   "cell_type": "code",
   "execution_count": 9,
   "metadata": {},
   "outputs": [
    {
     "data": {
      "text/plain": [
       "57.36"
      ]
     },
     "execution_count": 9,
     "metadata": {},
     "output_type": "execute_result"
    }
   ],
   "source": [
    "gf.modd(target_time=\"15:04\",slack=1000)"
   ]
  },
  {
   "cell_type": "code",
   "execution_count": 10,
   "metadata": {},
   "outputs": [
    {
     "data": {
      "text/plain": [
       "2020-09-14          [0.0, 32.20338983050847, 67.79661016949152]\n",
       "2020-09-15         [0.0, 44.79166666666667, 55.208333333333336]\n",
       "2020-09-16     [1.0416666666666665, 46.875, 52.083333333333336]\n",
       "2020-09-17         [0.0, 44.79166666666667, 55.208333333333336]\n",
       "2020-09-18                                [0.0, 53.125, 46.875]\n",
       "2020-09-19         [0.0, 44.79166666666667, 55.208333333333336]\n",
       "2020-09-20         [0.0, 47.91666666666667, 52.083333333333336]\n",
       "2020-09-21    [5.208333333333334, 55.208333333333336, 39.583...\n",
       "2020-09-22         [0.0, 41.66666666666667, 58.333333333333336]\n",
       "2020-09-23        [2.083333333333333, 41.66666666666667, 56.25]\n",
       "2020-09-24       [3.125, 39.58333333333333, 57.291666666666664]\n",
       "2020-09-25         [0.0, 27.083333333333332, 72.91666666666666]\n",
       "2020-09-26                                [0.0, 34.375, 65.625]\n",
       "2020-09-27        [6.25, 35.41666666666667, 58.333333333333336]\n",
       "2020-09-28          [0.0, 67.74193548387096, 32.25806451612903]\n",
       "dtype: object"
      ]
     },
     "execution_count": 10,
     "metadata": {},
     "output_type": "execute_result"
    }
   ],
   "source": [
    "gf.tir()"
   ]
  },
  {
   "cell_type": "markdown",
   "metadata": {},
   "source": [
    "#### 2. Analysis of distribution in the plane for glycaemia dynamics"
   ]
  },
  {
   "cell_type": "code",
   "execution_count": 11,
   "metadata": {},
   "outputs": [
    {
     "data": {
      "text/plain": [
       "2020-09-14        [0.0, 0.3220338983050847, 0.6779661016949152]\n",
       "2020-09-15        [0.0, 0.4479166666666667, 0.5520833333333334]\n",
       "2020-09-16    [0.010416666666666666, 0.46875, 0.520833333333...\n",
       "2020-09-17        [0.0, 0.4479166666666667, 0.5520833333333334]\n",
       "2020-09-18                              [0.0, 0.53125, 0.46875]\n",
       "2020-09-19        [0.0, 0.4479166666666667, 0.5520833333333334]\n",
       "2020-09-20        [0.0, 0.4791666666666667, 0.5208333333333334]\n",
       "2020-09-21    [0.052083333333333336, 0.5520833333333334, 0.3...\n",
       "2020-09-22        [0.0, 0.4166666666666667, 0.5833333333333334]\n",
       "2020-09-23    [0.020833333333333332, 0.4166666666666667, 0.5...\n",
       "2020-09-24    [0.03125, 0.3958333333333333, 0.5729166666666666]\n",
       "2020-09-25        [0.0, 0.2708333333333333, 0.7291666666666666]\n",
       "2020-09-26                              [0.0, 0.34375, 0.65625]\n",
       "2020-09-27     [0.0625, 0.3541666666666667, 0.5833333333333334]\n",
       "2020-09-28        [0.0, 0.6774193548387096, 0.3225806451612903]\n",
       "dtype: object"
      ]
     },
     "execution_count": 11,
     "metadata": {},
     "output_type": "execute_result"
    }
   ],
   "source": [
    "gf.fd([100,200,300])"
   ]
  },
  {
   "cell_type": "code",
   "execution_count": 12,
   "metadata": {},
   "outputs": [
    {
     "data": {
      "text/plain": [
       "2020-09-14    140373.0\n",
       "2020-09-15    226057.5\n",
       "2020-09-16    215703.0\n",
       "2020-09-17    220806.0\n",
       "2020-09-18    208035.0\n",
       "2020-09-19    226192.5\n",
       "2020-09-20    207103.5\n",
       "2020-09-21    204795.0\n",
       "2020-09-22    237843.0\n",
       "2020-09-23    235831.5\n",
       "2020-09-24    231970.5\n",
       "2020-09-25    236547.0\n",
       "2020-09-26    256905.0\n",
       "2020-09-27    228582.0\n",
       "2020-09-28     61762.5\n",
       "dtype: float64"
      ]
     },
     "execution_count": 12,
     "metadata": {},
     "output_type": "execute_result"
    }
   ],
   "source": [
    "gf.auc(time_unit='m')"
   ]
  },
  {
   "cell_type": "markdown",
   "metadata": {},
   "source": [
    "#### 3. Amplitude and distribution of frequencies metrics for glycaemia dynamics"
   ]
  },
  {
   "cell_type": "code",
   "execution_count": 13,
   "metadata": {},
   "outputs": [
    {
     "data": {
      "text/plain": [
       "2020-09-14     78.30\n",
       "2020-09-15     97.80\n",
       "2020-09-16    109.80\n",
       "2020-09-17    124.20\n",
       "2020-09-18    116.40\n",
       "2020-09-19     87.60\n",
       "2020-09-20     95.85\n",
       "2020-09-21    117.60\n",
       "2020-09-22    198.00\n",
       "2020-09-23    154.80\n",
       "2020-09-24    187.20\n",
       "2020-09-25     97.80\n",
       "2020-09-26    153.90\n",
       "2020-09-27    151.20\n",
       "2020-09-28    124.20\n",
       "dtype: float64"
      ]
     },
     "execution_count": 13,
     "metadata": {},
     "output_type": "execute_result"
    }
   ],
   "source": [
    "gf.mage()"
   ]
  },
  {
   "cell_type": "code",
   "execution_count": 14,
   "metadata": {},
   "outputs": [
    {
     "data": {
      "text/plain": [
       "35.0"
      ]
     },
     "execution_count": 14,
     "metadata": {},
     "output_type": "execute_result"
    }
   ],
   "source": [
    "from scipy.signal import find_peaks\n",
    "\n",
    "x = np.concatenate([np.repeat(100, 10), np.repeat(120, 10), [105, 85]])\n",
    "            \n",
    "# find peaks and troughs\n",
    "peaks, _ = find_peaks(x)\n",
    "troughs, _ = find_peaks(-x)\n",
    "if peaks.size > troughs.size:\n",
    "    troughs = np.append(troughs, x.size - 1)\n",
    "elif peaks.size < troughs.size:\n",
    "    peaks = np.append(peaks, x.size - 1)\n",
    "\n",
    "# calculate the difference between the peaks and the troughs\n",
    "differences = np.abs(x[peaks] - x[troughs])\n",
    "# get differences greater than std\n",
    "differences = differences[differences > x.std()]\n",
    "# calculate mage\n",
    "differences.mean()"
   ]
  },
  {
   "cell_type": "code",
   "execution_count": 15,
   "metadata": {},
   "outputs": [
    {
     "data": {
      "text/plain": [
       "2020-09-14    673.2\n",
       "2020-09-15    732.6\n",
       "2020-09-16    777.6\n",
       "2020-09-17    799.2\n",
       "2020-09-18    759.6\n",
       "2020-09-19    779.4\n",
       "2020-09-20    840.6\n",
       "2020-09-21    874.8\n",
       "2020-09-22    741.6\n",
       "2020-09-23    948.6\n",
       "2020-09-24    703.8\n",
       "2020-09-25    885.6\n",
       "2020-09-26    907.2\n",
       "2020-09-27    716.4\n",
       "2020-09-28    174.6\n",
       "dtype: float64"
      ]
     },
     "execution_count": 15,
     "metadata": {},
     "output_type": "execute_result"
    }
   ],
   "source": [
    "gf.dt()"
   ]
  },
  {
   "cell_type": "markdown",
   "metadata": {},
   "source": [
    "#### 4. Metrics for the analysis of glycaemic dynamics using scores of glucose values"
   ]
  },
  {
   "cell_type": "code",
   "execution_count": 16,
   "metadata": {},
   "outputs": [
    {
     "data": {
      "text/plain": [
       "2020-09-14     6.295143\n",
       "2020-09-15     6.639073\n",
       "2020-09-16     2.371875\n",
       "2020-09-17     0.237187\n",
       "2020-09-18     1.660312\n",
       "2020-09-19     2.134688\n",
       "2020-09-20     0.000000\n",
       "2020-09-21     1.660312\n",
       "2020-09-22     2.846250\n",
       "2020-09-23     7.949290\n",
       "2020-09-24     3.795000\n",
       "2020-09-25     6.296559\n",
       "2020-09-26    10.448210\n",
       "2020-09-27     4.269375\n",
       "2020-09-28     3.691056\n",
       "dtype: float64"
      ]
     },
     "execution_count": 16,
     "metadata": {},
     "output_type": "execute_result"
    }
   ],
   "source": [
    "gf.hbgi()"
   ]
  },
  {
   "cell_type": "code",
   "execution_count": 17,
   "metadata": {},
   "outputs": [
    {
     "data": {
      "text/plain": [
       "2020-09-14    0.000000\n",
       "2020-09-15    0.000000\n",
       "2020-09-16    0.771168\n",
       "2020-09-17    0.412341\n",
       "2020-09-18    0.468902\n",
       "2020-09-19    0.103086\n",
       "2020-09-20    0.269912\n",
       "2020-09-21    0.962340\n",
       "2020-09-22    0.350020\n",
       "2020-09-23    0.000000\n",
       "2020-09-24    0.937265\n",
       "2020-09-25    0.000000\n",
       "2020-09-26    0.000000\n",
       "2020-09-27    1.477239\n",
       "2020-09-28    0.000000\n",
       "dtype: float64"
      ]
     },
     "execution_count": 17,
     "metadata": {},
     "output_type": "execute_result"
    }
   ],
   "source": [
    "gf.lbgi()"
   ]
  },
  {
   "cell_type": "code",
   "execution_count": 18,
   "metadata": {},
   "outputs": [
    {
     "data": {
      "text/plain": [
       "28.850584322120103"
      ]
     },
     "execution_count": 18,
     "metadata": {},
     "output_type": "execute_result"
    }
   ],
   "source": [
    "gf.adrr()"
   ]
  },
  {
   "cell_type": "code",
   "execution_count": 19,
   "metadata": {},
   "outputs": [
    {
     "data": {
      "text/plain": [
       "Hypoglycaemia     38.340807\n",
       "Euglycaemia       19.581465\n",
       "Hyperglycaemia    42.077728\n",
       "dtype: float64"
      ]
     },
     "execution_count": 19,
     "metadata": {},
     "output_type": "execute_result"
    }
   ],
   "source": [
    "gf.grade()"
   ]
  },
  {
   "cell_type": "code",
   "execution_count": 20,
   "metadata": {},
   "outputs": [],
   "source": [
    "gf.qscore()"
   ]
  },
  {
   "cell_type": "markdown",
   "metadata": {},
   "source": [
    "#### 5. Metrics for the analysis of glycaemic dynamics using variability estimation"
   ]
  },
  {
   "cell_type": "code",
   "execution_count": 21,
   "metadata": {},
   "outputs": [
    {
     "data": {
      "text/plain": [
       "2020-09-14    46.026299\n",
       "2020-09-15    34.584548\n",
       "2020-09-16    39.956308\n",
       "2020-09-17    38.854507\n",
       "2020-09-18    36.628862\n",
       "2020-09-19    37.047632\n",
       "2020-09-20    39.710895\n",
       "2020-09-21    41.615268\n",
       "2020-09-22    35.947050\n",
       "2020-09-23    45.458497\n",
       "2020-09-24    33.142924\n",
       "2020-09-25    39.882226\n",
       "2020-09-26    41.893087\n",
       "2020-09-27    34.960032\n",
       "2020-09-28    23.828461\n",
       "dtype: float64"
      ]
     },
     "execution_count": 21,
     "metadata": {},
     "output_type": "execute_result"
    }
   ],
   "source": [
    "gf.conga()"
   ]
  },
  {
   "cell_type": "code",
   "execution_count": 22,
   "metadata": {},
   "outputs": [
    {
     "data": {
      "text/plain": [
       "21.532137212501045"
      ]
     },
     "execution_count": 22,
     "metadata": {},
     "output_type": "execute_result"
    }
   ],
   "source": [
    "gf.gvp()"
   ]
  },
  {
   "cell_type": "code",
   "execution_count": 23,
   "metadata": {},
   "outputs": [
    {
     "data": {
      "text/plain": [
       "2020-09-14    0.773793\n",
       "2020-09-15    0.514105\n",
       "2020-09-16    0.545684\n",
       "2020-09-17    0.560842\n",
       "2020-09-18    0.533053\n",
       "2020-09-19    0.546947\n",
       "2020-09-20    0.589895\n",
       "2020-09-21    0.613895\n",
       "2020-09-22    0.520421\n",
       "2020-09-23    0.665684\n",
       "2020-09-24    0.493895\n",
       "2020-09-25    0.621474\n",
       "2020-09-26    0.636632\n",
       "2020-09-27    0.502737\n",
       "2020-09-28    0.388000\n",
       "dtype: float64"
      ]
     },
     "execution_count": 23,
     "metadata": {},
     "output_type": "execute_result"
    }
   ],
   "source": [
    "gf.mag(True)"
   ]
  },
  {
   "cell_type": "markdown",
   "metadata": {},
   "source": [
    "## Plots"
   ]
  },
  {
   "cell_type": "code",
   "execution_count": 24,
   "metadata": {},
   "outputs": [],
   "source": [
    "#box(gf)"
   ]
  },
  {
   "cell_type": "code",
   "execution_count": 25,
   "metadata": {},
   "outputs": [],
   "source": [
    "#trace(gf)"
   ]
  },
  {
   "cell_type": "code",
   "execution_count": 26,
   "metadata": {},
   "outputs": [],
   "source": [
    "#mean_trace(gf,add_quartiles=True)"
   ]
  },
  {
   "cell_type": "code",
   "execution_count": 27,
   "metadata": {},
   "outputs": [],
   "source": [
    "#tir_trace(gf)"
   ]
  },
  {
   "cell_type": "code",
   "execution_count": 28,
   "metadata": {},
   "outputs": [],
   "source": [
    "#mage_trace(gf)"
   ]
  },
  {
   "cell_type": "code",
   "execution_count": 29,
   "metadata": {},
   "outputs": [],
   "source": [
    "#roc_hist(gf)"
   ]
  },
  {
   "cell_type": "code",
   "execution_count": 30,
   "metadata": {},
   "outputs": [],
   "source": [
    "#freq_hist(gf,target_range=[100,200,250,300,400])"
   ]
  }
 ],
 "metadata": {
  "kernelspec": {
   "display_name": ".venv",
   "language": "python",
   "name": "python3"
  },
  "language_info": {
   "codemirror_mode": {
    "name": "ipython",
    "version": 3
   },
   "file_extension": ".py",
   "mimetype": "text/x-python",
   "name": "python",
   "nbconvert_exporter": "python",
   "pygments_lexer": "ipython3",
   "version": "3.11.2"
  }
 },
 "nbformat": 4,
 "nbformat_minor": 2
}
