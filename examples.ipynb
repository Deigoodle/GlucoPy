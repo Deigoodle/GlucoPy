{
 "cells": [
  {
   "cell_type": "markdown",
   "metadata": {},
   "source": [
    "# Gframe\n",
    "\n",
    "Notebook to test the Gframe library."
   ]
  },
  {
   "cell_type": "markdown",
   "metadata": {},
   "source": [
    "### Imports"
   ]
  },
  {
   "cell_type": "code",
   "execution_count": 1,
   "metadata": {},
   "outputs": [],
   "source": [
    "import numpy as np\n",
    "import pandas as pd\n",
    "import plotly.express as px\n",
    "from glucopy.io import *\n",
    "from glucopy.plot import *\n",
    "from glucopy.utils import *"
   ]
  },
  {
   "cell_type": "markdown",
   "metadata": {},
   "source": [
    "### Read file and create Gframe"
   ]
  },
  {
   "cell_type": "code",
   "execution_count": 2,
   "metadata": {},
   "outputs": [
    {
     "data": {
      "text/plain": [
       "'DATASETS/Shanghai/T2DM/2092_0_20201109.xls'"
      ]
     },
     "execution_count": 2,
     "metadata": {},
     "output_type": "execute_result"
    }
   ],
   "source": [
    "path = f'DATASETS/Shanghai/T2DM/2092_0_20201109.xls'\n",
    "gf = load_excel(path=path)\n",
    "path"
   ]
  },
  {
   "cell_type": "code",
   "execution_count": 3,
   "metadata": {},
   "outputs": [
    {
     "name": "stderr",
     "output_type": "stream",
     "text": [
      "/home/deigoodle/repos/GlucoPy/glucopy/utils/date_processing.py:16: UserWarning: Parsing dates in %d-%m-%Y %H:%M format when dayfirst=False (the default) was specified. Pass `dayfirst=True` or specify a format to silence this warning.\n",
      "  disjoined_df['Timestamp'] = pd.to_datetime(df.loc[:, date_column])\n"
     ]
    }
   ],
   "source": [
    "path2 = f'DATASETS/prueba 1 sensor free style libre.csv'\n",
    "gf2 = load_csv(path=path2,\n",
    "               date_column='Sello de tiempo del dispositivo',\n",
    "               cgm_column='Historial de glucosa mg/dL',\n",
    "               skiprows=2,\n",
    "               date_format='mixed')"
   ]
  },
  {
   "cell_type": "markdown",
   "metadata": {},
   "source": [
    "# "
   ]
  },
  {
   "cell_type": "markdown",
   "metadata": {},
   "source": [
    "## Metrics"
   ]
  },
  {
   "cell_type": "markdown",
   "metadata": {},
   "source": [
    "#### 1. Joint data analysis metrics for glycaemia dynamics"
   ]
  },
  {
   "cell_type": "code",
   "execution_count": 4,
   "metadata": {},
   "outputs": [
    {
     "data": {
      "text/plain": [
       "Day\n",
       "2020-11-09    125.660377\n",
       "2020-11-10    115.368750\n",
       "2020-11-11    128.212500\n",
       "2020-11-12    115.256250\n",
       "2020-11-13    125.381250\n",
       "2020-11-14    115.631250\n",
       "2020-11-15    112.218750\n",
       "2020-11-16    113.812500\n",
       "2020-11-17    114.187500\n",
       "2020-11-18    111.731250\n",
       "2020-11-19    109.312500\n",
       "2020-11-20    106.743750\n",
       "2020-11-21    108.600000\n",
       "2020-11-22    106.462500\n",
       "2020-11-23    106.143750\n",
       "Name: CGM, dtype: float64"
      ]
     },
     "execution_count": 4,
     "metadata": {},
     "output_type": "execute_result"
    }
   ],
   "source": [
    "gf.mean(per_day=True)"
   ]
  },
  {
   "cell_type": "code",
   "execution_count": 5,
   "metadata": {},
   "outputs": [
    {
     "data": {
      "text/plain": [
       "Day\n",
       "2020-11-09    20.325035\n",
       "2020-11-10    34.715255\n",
       "2020-11-11    55.282957\n",
       "2020-11-12    29.593679\n",
       "2020-11-13    40.326114\n",
       "2020-11-14    44.077466\n",
       "2020-11-15    22.113108\n",
       "2020-11-16    34.051068\n",
       "2020-11-17    33.674727\n",
       "2020-11-18    31.748443\n",
       "2020-11-19    25.846051\n",
       "2020-11-20    30.106306\n",
       "2020-11-21    24.657776\n",
       "2020-11-22    20.209978\n",
       "2020-11-23     8.716648\n",
       "Name: CGM, dtype: float64"
      ]
     },
     "execution_count": 5,
     "metadata": {},
     "output_type": "execute_result"
    }
   ],
   "source": [
    "gf.std(per_day=True)"
   ]
  },
  {
   "cell_type": "code",
   "execution_count": 6,
   "metadata": {},
   "outputs": [
    {
     "data": {
      "text/plain": [
       "0.294933177548863"
      ]
     },
     "execution_count": 6,
     "metadata": {},
     "output_type": "execute_result"
    }
   ],
   "source": [
    "gf.cv()"
   ]
  },
  {
   "cell_type": "code",
   "execution_count": 7,
   "metadata": {},
   "outputs": [
    {
     "data": {
      "text/plain": [
       "Day\n",
       "2020-11-09    16.174578\n",
       "2020-11-10    30.090692\n",
       "2020-11-11    43.118227\n",
       "2020-11-12    25.676420\n",
       "2020-11-13    32.162794\n",
       "2020-11-14    38.118991\n",
       "2020-11-15    19.705359\n",
       "2020-11-16    29.918566\n",
       "2020-11-17    29.490729\n",
       "2020-11-18    28.415008\n",
       "2020-11-19    23.644186\n",
       "2020-11-20    28.204280\n",
       "2020-11-21    22.705134\n",
       "2020-11-22    18.983189\n",
       "2020-11-23     8.212117\n",
       "Name: CGM, dtype: float64"
      ]
     },
     "execution_count": 7,
     "metadata": {},
     "output_type": "execute_result"
    }
   ],
   "source": [
    "gf.pcv(per_day=True)"
   ]
  },
  {
   "cell_type": "code",
   "execution_count": 8,
   "metadata": {},
   "outputs": [
    {
     "data": {
      "text/plain": [
       "Day\n",
       "2020-11-09    23.40\n",
       "2020-11-10    30.60\n",
       "2020-11-11    59.40\n",
       "2020-11-12    29.70\n",
       "2020-11-13    79.20\n",
       "2020-11-14    39.60\n",
       "2020-11-15    34.65\n",
       "2020-11-16    34.65\n",
       "2020-11-17    45.45\n",
       "2020-11-18    34.65\n",
       "2020-11-19    41.40\n",
       "2020-11-20    25.20\n",
       "2020-11-21    39.60\n",
       "2020-11-22    24.30\n",
       "2020-11-23    16.20\n",
       "Name: CGM, dtype: float64"
      ]
     },
     "execution_count": 8,
     "metadata": {},
     "output_type": "execute_result"
    }
   ],
   "source": [
    "gf.iqr(per_day=True)"
   ]
  },
  {
   "cell_type": "code",
   "execution_count": 9,
   "metadata": {},
   "outputs": [
    {
     "data": {
      "text/plain": [
       "20.445"
      ]
     },
     "execution_count": 9,
     "metadata": {},
     "output_type": "execute_result"
    }
   ],
   "source": [
    "gf.modd(slack=15)"
   ]
  },
  {
   "cell_type": "code",
   "execution_count": 10,
   "metadata": {},
   "outputs": [
    {
     "data": {
      "text/plain": [
       "2020-11-09      [0.0, 100.0, 0.0]\n",
       "2020-11-10     [0.0, 91.58, 8.42]\n",
       "2020-11-11    [0.0, 87.37, 12.63]\n",
       "2020-11-12     [0.0, 96.84, 3.16]\n",
       "2020-11-13    [0.0, 86.32, 13.68]\n",
       "2020-11-14    [0.0, 85.26, 14.74]\n",
       "2020-11-15      [0.0, 100.0, 0.0]\n",
       "2020-11-16     [0.0, 94.74, 5.26]\n",
       "2020-11-17     [0.0, 94.74, 5.26]\n",
       "2020-11-18     [0.0, 93.68, 6.32]\n",
       "2020-11-19     [0.0, 97.89, 2.11]\n",
       "2020-11-20     [0.0, 95.79, 4.21]\n",
       "2020-11-21      [0.0, 100.0, 0.0]\n",
       "2020-11-22      [0.0, 100.0, 0.0]\n",
       "2020-11-23      [0.0, 100.0, 0.0]\n",
       "dtype: object"
      ]
     },
     "execution_count": 10,
     "metadata": {},
     "output_type": "execute_result"
    }
   ],
   "source": [
    "gf.tir()"
   ]
  },
  {
   "cell_type": "markdown",
   "metadata": {},
   "source": [
    "#### 2. Analysis of distribution in the plane for glycaemia dynamics"
   ]
  },
  {
   "cell_type": "code",
   "execution_count": 11,
   "metadata": {},
   "outputs": [
    {
     "data": {
      "text/plain": [
       "2020-11-09    [0.0, 0.98, 0.02]\n",
       "2020-11-10    [0.0, 0.92, 0.08]\n",
       "2020-11-11    [0.0, 0.88, 0.12]\n",
       "2020-11-12    [0.0, 0.97, 0.03]\n",
       "2020-11-13    [0.0, 0.86, 0.14]\n",
       "2020-11-14    [0.0, 0.85, 0.15]\n",
       "2020-11-15      [0.0, 1.0, 0.0]\n",
       "2020-11-16    [0.0, 0.95, 0.05]\n",
       "2020-11-17    [0.0, 0.95, 0.05]\n",
       "2020-11-18    [0.0, 0.94, 0.06]\n",
       "2020-11-19    [0.0, 0.98, 0.02]\n",
       "2020-11-20    [0.0, 0.96, 0.04]\n",
       "2020-11-21      [0.0, 1.0, 0.0]\n",
       "2020-11-22      [0.0, 1.0, 0.0]\n",
       "2020-11-23      [0.0, 1.0, 0.0]\n",
       "dtype: object"
      ]
     },
     "execution_count": 11,
     "metadata": {},
     "output_type": "execute_result"
    }
   ],
   "source": [
    "gf.fd()"
   ]
  },
  {
   "cell_type": "code",
   "execution_count": 12,
   "metadata": {},
   "outputs": [
    {
     "data": {
      "text/plain": [
       "2020-11-09     97942.5\n",
       "2020-11-10    164916.0\n",
       "2020-11-11    183397.5\n",
       "2020-11-12    164538.0\n",
       "2020-11-13    179091.0\n",
       "2020-11-14    165172.5\n",
       "2020-11-15    160191.0\n",
       "2020-11-16    162526.5\n",
       "2020-11-17    162972.0\n",
       "2020-11-18    159462.0\n",
       "2020-11-19    156141.0\n",
       "2020-11-20    152374.5\n",
       "2020-11-21    155007.0\n",
       "2020-11-22    151659.0\n",
       "2020-11-23     49140.0\n",
       "dtype: float64"
      ]
     },
     "execution_count": 12,
     "metadata": {},
     "output_type": "execute_result"
    }
   ],
   "source": [
    "gf.auc(time_unit='m')"
   ]
  },
  {
   "cell_type": "markdown",
   "metadata": {},
   "source": [
    "#### 3. Amplitude and distribution of frequencies metrics for glycaemia dynamics"
   ]
  },
  {
   "cell_type": "code",
   "execution_count": 13,
   "metadata": {},
   "outputs": [
    {
     "data": {
      "text/plain": [
       "2020-11-09     35.10\n",
       "2020-11-10    110.70\n",
       "2020-11-11    106.80\n",
       "2020-11-12     70.80\n",
       "2020-11-13     81.00\n",
       "2020-11-14    135.90\n",
       "2020-11-15     49.20\n",
       "2020-11-16     75.15\n",
       "2020-11-17    115.20\n",
       "2020-11-18     68.40\n",
       "2020-11-19     73.20\n",
       "2020-11-20    110.70\n",
       "2020-11-21     61.80\n",
       "2020-11-22     55.80\n",
       "2020-11-23     18.90\n",
       "dtype: float64"
      ]
     },
     "execution_count": 13,
     "metadata": {},
     "output_type": "execute_result"
    }
   ],
   "source": [
    "gf.mage()"
   ]
  },
  {
   "cell_type": "code",
   "execution_count": 14,
   "metadata": {},
   "outputs": [],
   "source": [
    "save_csv(gf, 'prueba.csv')"
   ]
  },
  {
   "cell_type": "code",
   "execution_count": 15,
   "metadata": {},
   "outputs": [
    {
     "data": {
      "text/plain": [
       "8186.4"
      ]
     },
     "execution_count": 15,
     "metadata": {},
     "output_type": "execute_result"
    }
   ],
   "source": [
    "gf.dt(False)"
   ]
  },
  {
   "cell_type": "markdown",
   "metadata": {},
   "source": [
    "#### 4. Metrics for the analysis of glycaemic dynamics using scores of glucose values"
   ]
  },
  {
   "cell_type": "code",
   "execution_count": 16,
   "metadata": {},
   "outputs": [
    {
     "data": {
      "text/plain": [
       "1.3417183711145038"
      ]
     },
     "execution_count": 16,
     "metadata": {},
     "output_type": "execute_result"
    }
   ],
   "source": [
    "gf.hbgi(False)"
   ]
  },
  {
   "cell_type": "code",
   "execution_count": 17,
   "metadata": {},
   "outputs": [
    {
     "data": {
      "text/plain": [
       "0.0"
      ]
     },
     "execution_count": 17,
     "metadata": {},
     "output_type": "execute_result"
    }
   ],
   "source": [
    "gf.lbgi(False)"
   ]
  },
  {
   "cell_type": "code",
   "execution_count": 18,
   "metadata": {},
   "outputs": [
    {
     "data": {
      "text/plain": [
       "6.487989172725312"
      ]
     },
     "execution_count": 18,
     "metadata": {},
     "output_type": "execute_result"
    }
   ],
   "source": [
    "gf.adrr()"
   ]
  },
  {
   "cell_type": "code",
   "execution_count": 19,
   "metadata": {},
   "outputs": [
    {
     "data": {
      "text/plain": [
       "Hypoglycaemia      0.000000\n",
       "Euglycaemia       35.801704\n",
       "Hyperglycaemia    64.198296\n",
       "dtype: float64"
      ]
     },
     "execution_count": 19,
     "metadata": {},
     "output_type": "execute_result"
    }
   ],
   "source": [
    "gf.grade()"
   ]
  },
  {
   "cell_type": "code",
   "execution_count": 20,
   "metadata": {},
   "outputs": [
    {
     "data": {
      "text/plain": [
       "5.0397098388779575"
      ]
     },
     "execution_count": 20,
     "metadata": {},
     "output_type": "execute_result"
    }
   ],
   "source": [
    "gf.qscore()"
   ]
  },
  {
   "cell_type": "markdown",
   "metadata": {},
   "source": [
    "#### 5. Metrics for the analysis of glycaemic dynamics using variability estimation"
   ]
  },
  {
   "cell_type": "code",
   "execution_count": 21,
   "metadata": {},
   "outputs": [
    {
     "data": {
      "text/plain": [
       "29.30527903434651"
      ]
     },
     "execution_count": 21,
     "metadata": {},
     "output_type": "execute_result"
    }
   ],
   "source": [
    "gf.conga(False,slack=15,method='mean')"
   ]
  },
  {
   "cell_type": "code",
   "execution_count": 22,
   "metadata": {},
   "outputs": [
    {
     "data": {
      "text/plain": [
       "14.733793618229218"
      ]
     },
     "execution_count": 22,
     "metadata": {},
     "output_type": "execute_result"
    }
   ],
   "source": [
    "gf.gvp()"
   ]
  },
  {
   "cell_type": "code",
   "execution_count": 23,
   "metadata": {},
   "outputs": [
    {
     "data": {
      "text/plain": [
       "24.583783783783783"
      ]
     },
     "execution_count": 23,
     "metadata": {},
     "output_type": "execute_result"
    }
   ],
   "source": [
    "gf.mag(False,time_unit='h')"
   ]
  },
  {
   "cell_type": "markdown",
   "metadata": {},
   "source": [
    "#### 6. Computational methods for the analysis of glycemic dynamics"
   ]
  },
  {
   "cell_type": "code",
   "execution_count": 24,
   "metadata": {},
   "outputs": [
    {
     "data": {
      "text/plain": [
       "1.149822094823393"
      ]
     },
     "execution_count": 24,
     "metadata": {},
     "output_type": "execute_result"
    }
   ],
   "source": [
    "gf.dfa()"
   ]
  },
  {
   "cell_type": "code",
   "execution_count": 25,
   "metadata": {},
   "outputs": [
    {
     "data": {
      "text/plain": [
       "0.4184725853727497"
      ]
     },
     "execution_count": 25,
     "metadata": {},
     "output_type": "execute_result"
    }
   ],
   "source": [
    "gf.samp_en()"
   ]
  },
  {
   "cell_type": "code",
   "execution_count": 26,
   "metadata": {},
   "outputs": [
    {
     "data": {
      "text/plain": [
       "0.8629390710715797"
      ]
     },
     "execution_count": 26,
     "metadata": {},
     "output_type": "execute_result"
    }
   ],
   "source": [
    "gf.mse()"
   ]
  },
  {
   "cell_type": "markdown",
   "metadata": {},
   "source": [
    "## Plots"
   ]
  },
  {
   "cell_type": "code",
   "execution_count": 27,
   "metadata": {},
   "outputs": [],
   "source": [
    "#box(gf)"
   ]
  },
  {
   "cell_type": "code",
   "execution_count": 28,
   "metadata": {},
   "outputs": [],
   "source": [
    "#trace.per_day(gf2,20)"
   ]
  },
  {
   "cell_type": "code",
   "execution_count": 29,
   "metadata": {},
   "outputs": [],
   "source": [
    "#trace.mean(gf,add_quartiles=True)"
   ]
  },
  {
   "cell_type": "code",
   "execution_count": 30,
   "metadata": {},
   "outputs": [],
   "source": [
    "#trace.tir(gf)"
   ]
  },
  {
   "cell_type": "code",
   "execution_count": 31,
   "metadata": {},
   "outputs": [],
   "source": [
    "#trace.mage(gf2,smooth=False)"
   ]
  },
  {
   "cell_type": "code",
   "execution_count": 32,
   "metadata": {},
   "outputs": [],
   "source": [
    "#trace.mage(gf2,smooth=True)"
   ]
  },
  {
   "cell_type": "code",
   "execution_count": 33,
   "metadata": {},
   "outputs": [],
   "source": [
    "#roc_hist(gf2)"
   ]
  },
  {
   "cell_type": "code",
   "execution_count": 34,
   "metadata": {},
   "outputs": [],
   "source": [
    "#freq_hist(gf)"
   ]
  },
  {
   "cell_type": "code",
   "execution_count": 35,
   "metadata": {},
   "outputs": [],
   "source": [
    "#trace.agp(gf2)"
   ]
  }
 ],
 "metadata": {
  "kernelspec": {
   "display_name": ".venv",
   "language": "python",
   "name": "python3"
  },
  "language_info": {
   "codemirror_mode": {
    "name": "ipython",
    "version": 3
   },
   "file_extension": ".py",
   "mimetype": "text/x-python",
   "name": "python",
   "nbconvert_exporter": "python",
   "pygments_lexer": "ipython3",
   "version": "3.11.2"
  }
 },
 "nbformat": 4,
 "nbformat_minor": 2
}
