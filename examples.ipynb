{
 "cells": [
  {
   "cell_type": "code",
   "execution_count": 1,
   "metadata": {},
   "outputs": [],
   "source": [
    "import numpy as np\n",
    "import matplotlib.pyplot as plt\n",
    "import pandas as pd\n",
    "import os\n",
    "from ToolBox.classes.Signal import Signal"
   ]
  },
  {
   "cell_type": "code",
   "execution_count": 2,
   "metadata": {},
   "outputs": [],
   "source": [
    "T1DM_patients = ['1001_0_20210730',\n",
    "                  '1002_0_20210504',\n",
    "                  '1002_1_20210521',\n",
    "                  '1002_2_20210909',\n",
    "                  '1003_0_20210831',\n",
    "                  '1004_0_20210425',\n",
    "                  '1005_0_20210522',\n",
    "                  '1006_0_20210114',\n",
    "                  '1006_1_20210209',\n",
    "                  '1006_2_20210303',\n",
    "                  '1007_0_20210726',\n",
    "                  '1008_0_20210713',\n",
    "                  '1009_0_20210803',\n",
    "                  '1010_0_20210915',\n",
    "                  '1011_0_20210622',\n",
    "                  '1012_0_20210923']\n",
    "\n",
    "T2DM_patients = []\n",
    "# get all the namefiles inside /T2DM folder (files can be .xlsx or .xls)\n",
    "for file in os.listdir('DATASETS/Shanghai/T2DM'):\n",
    "    if file.endswith(\".xlsx\") or file.endswith(\".xls\"):\n",
    "        T2DM_patients.append(file)\n",
    "\n",
    "t1dm_dfs = []  # list to hold individual dataframes\n",
    "t2dm_dfs = []\n",
    "\n",
    "for patient in T1DM_patients:\n",
    "    t1dm_df = pd.read_excel(f'DATASETS/Shanghai/T1DM/{patient}.xlsx')\n",
    "    t1dm_df = t1dm_df.loc[:, [\"Date\", \"CGM (mg / dl)\"]]\n",
    "    t1dm_dfs.append(t1dm_df)\n",
    "\n",
    "from zipfile import BadZipFile\n",
    "\n",
    "for patient in T2DM_patients:\n",
    "    try:\n",
    "        t2dm_df = pd.read_excel(f'DATASETS/Shanghai/T2DM/{patient}')\n",
    "        if \"CGM (mg / dl)\" in t2dm_df.columns:\n",
    "            t2dm_df = t2dm_df.loc[:, [\"Date\", \"CGM (mg / dl)\"]]\n",
    "            t2dm_dfs.append(t2dm_df)\n",
    "    except (BadZipFile, ValueError) as e:\n",
    "        print(f\"File could not be read: {patient}. Error: {str(e)}\")"
   ]
  },
  {
   "cell_type": "code",
   "execution_count": 3,
   "metadata": {},
   "outputs": [],
   "source": [
    "df = t1dm_dfs[0]\n",
    "df.rename(columns={\"CGM (mg / dl)\": \"CGM\"}, inplace=True)"
   ]
  },
  {
   "cell_type": "code",
   "execution_count": 8,
   "metadata": {},
   "outputs": [
    {
     "data": {
      "text/plain": [
       "Date    2021-08-03 02:50:30\n",
       "CGM              196.829179\n",
       "dtype: object"
      ]
     },
     "execution_count": 8,
     "metadata": {},
     "output_type": "execute_result"
    }
   ],
   "source": [
    "df.mean()"
   ]
  },
  {
   "cell_type": "code",
   "execution_count": 5,
   "metadata": {},
   "outputs": [
    {
     "data": {
      "text/plain": [
       "196.829179331307"
      ]
     },
     "execution_count": 5,
     "metadata": {},
     "output_type": "execute_result"
    }
   ],
   "source": [
    "new_signal = Signal(df)\n",
    "new_signal.mean()"
   ]
  }
 ],
 "metadata": {
  "kernelspec": {
   "display_name": ".venv",
   "language": "python",
   "name": "python3"
  },
  "language_info": {
   "codemirror_mode": {
    "name": "ipython",
    "version": 3
   },
   "file_extension": ".py",
   "mimetype": "text/x-python",
   "name": "python",
   "nbconvert_exporter": "python",
   "pygments_lexer": "ipython3",
   "version": "3.11.2"
  }
 },
 "nbformat": 4,
 "nbformat_minor": 2
}
